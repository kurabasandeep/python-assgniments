{
 "cells": [
  {
   "cell_type": "code",
   "execution_count": 8,
   "id": "336f8199-026b-4679-8263-8cae7d8814fe",
   "metadata": {},
   "outputs": [
    {
     "name": "stdout",
     "output_type": "stream",
     "text": [
      "(10, 20, 30)\n",
      "(40, 50, 60)\n"
     ]
    }
   ],
   "source": [
    "#1.   CREATE TUPLE \n",
    "\n",
    "tuple1=(10,20,30)\n",
    "tuple2=(40,50,60)\n",
    "print(tuple1)\n",
    "print (tuple2)"
   ]
  },
  {
   "cell_type": "code",
   "execution_count": 14,
   "id": "a85a9ca7-29ee-473d-9012-583cf4dd3727",
   "metadata": {},
   "outputs": [
    {
     "name": "stdout",
     "output_type": "stream",
     "text": [
      "(10, 20, 30, 40, 50, 60)\n"
     ]
    }
   ],
   "source": [
    "#concatination\n",
    "\n",
    "t_combine= tuple1+tuple2\n",
    "print(t_combine)\n"
   ]
  },
  {
   "cell_type": "code",
   "execution_count": 13,
   "id": "60e92c94-7aae-454b-9b5a-da23a48e3286",
   "metadata": {},
   "outputs": [
    {
     "name": "stdout",
     "output_type": "stream",
     "text": [
      "(10, 20, 30, 40, 50, 60, 10, 20, 30, 40, 50, 60, 10, 20, 30, 40, 50, 60)\n"
     ]
    }
   ],
   "source": [
    "#repeat 3times\n",
    "\n",
    "a=t_combine*3\n",
    "print(a)"
   ]
  },
  {
   "cell_type": "code",
   "execution_count": 20,
   "id": "7b5633dc-ad90-47f2-b165-5afb3ae01984",
   "metadata": {},
   "outputs": [
    {
     "name": "stdout",
     "output_type": "stream",
     "text": [
      "30\n"
     ]
    }
   ],
   "source": [
    "#3rd element of t_combine\n",
    "\n",
    "x=t_combine[2]\n",
    "print(x)\n"
   ]
  },
  {
   "cell_type": "code",
   "execution_count": 24,
   "id": "d62047e4-4cd0-45e8-b092-51a051b570cf",
   "metadata": {},
   "outputs": [
    {
     "name": "stdout",
     "output_type": "stream",
     "text": [
      "(10, 20, 30)\n"
     ]
    }
   ],
   "source": [
    "#1st 3 elements of t_combine\n",
    "\n",
    "y=t_combine[0:3]\n",
    "print(y)"
   ]
  },
  {
   "cell_type": "code",
   "execution_count": 28,
   "id": "63c764f5-ff9a-49cb-ba43-67cf2eda4e7b",
   "metadata": {},
   "outputs": [
    {
     "name": "stdout",
     "output_type": "stream",
     "text": [
      "(40, 50, 60)\n"
     ]
    }
   ],
   "source": [
    "#last 3elements of t_comybine\n",
    "\n",
    "y=t_combine[3:]\n",
    "print(y)"
   ]
  },
  {
   "cell_type": "code",
   "execution_count": 34,
   "id": "4cc82905-ab86-4530-9d14-d5e823b5e9a4",
   "metadata": {},
   "outputs": [
    {
     "name": "stdout",
     "output_type": "stream",
     "text": [
      "tuple1: (10, 20, 30)\n",
      "tuple2: (10, 20, 30)\n",
      "concatination (10, 20, 30, 40, 50, 60)\n",
      "repeat 3times: (10, 20, 30, 40, 50, 60, 10, 20, 30, 40, 50, 60, 10, 20, 30, 40, 50, 60)\n",
      "3rd element of t_combine: (40, 50, 60)\n",
      "1st 3 elements of t_combine: 30\n",
      "last 3elements of t_comybine: (40, 50, 60)\n"
     ]
    }
   ],
   "source": [
    "print('tuple1:',tuple1)\n",
    "print('tuple2:',tuple1)\n",
    "print('concatination',t_combine)\n",
    "print('repeat 3times:',a)\n",
    "print('3rd element of t_combine:',y)\n",
    "print('1st 3 elements of t_combine:',x)\n",
    "print('last 3elements of t_comybine:',y)\n"
   ]
  },
  {
   "cell_type": "code",
   "execution_count": null,
   "id": "9447bf53-dfc2-4b21-90f8-025939571b43",
   "metadata": {},
   "outputs": [],
   "source": []
  },
  {
   "cell_type": "code",
   "execution_count": 48,
   "id": "6b05a2ad-058a-49d0-b9ce-a67782263bb3",
   "metadata": {},
   "outputs": [
    {
     "name": "stdout",
     "output_type": "stream",
     "text": [
      "[(1, 2, 3), ('a', 'b', 'c'), ('true', 'false')]\n"
     ]
    }
   ],
   "source": [
    "#2.   create my list \n",
    "\n",
    "my_list=[(1,2,3),\n",
    "         (\"a\",\"b\",\"c\"),\n",
    "         ('true','false')]\n",
    "print(my_list)"
   ]
  },
  {
   "cell_type": "code",
   "execution_count": 49,
   "id": "ccd32ecb-ac3a-4821-932a-6b3e23ff948d",
   "metadata": {},
   "outputs": [
    {
     "name": "stdout",
     "output_type": "stream",
     "text": [
      "first_tuple: (1, 2, 3)\n",
      "second_tuple: ('a', 'b', 'c')\n",
      "third_tuple: ('true', 'false')\n"
     ]
    }
   ],
   "source": [
    "first_tuple=my_list[0]\n",
    "second_tuple=my_list[1]\n",
    "third_tuple=my_list[2]\n",
    "\n",
    "print('first_tuple:',first_tuple)\n",
    "print('second_tuple:',second_tuple)\n",
    "print('third_tuple:',third_tuple)"
   ]
  },
  {
   "cell_type": "code",
   "execution_count": 50,
   "id": "9b8b3daf-992f-4630-b076-16c85ee168f4",
   "metadata": {},
   "outputs": [
    {
     "name": "stdout",
     "output_type": "stream",
     "text": [
      "(1, 2, 3, 'a', 'b', 'c', 'true', 'false')\n"
     ]
    }
   ],
   "source": [
    "a=first_tuple+second_tuple+third_tuple\n",
    "print(a)"
   ]
  },
  {
   "cell_type": "code",
   "execution_count": 51,
   "id": "8223482e-91c5-4a6f-8d80-310ecd2bfe1c",
   "metadata": {},
   "outputs": [
    {
     "name": "stdout",
     "output_type": "stream",
     "text": [
      "(1, 2, 3, 'a', 'b', 'c', 'true', 'false')\n"
     ]
    }
   ],
   "source": [
    "b=a[ : ]\n",
    "print(b)"
   ]
  },
  {
   "cell_type": "code",
   "execution_count": 52,
   "id": "692c4f93-c65a-4340-8d03-807ac6560fa2",
   "metadata": {},
   "outputs": [],
   "source": [
    "#3. append a new tuple\n",
    "\n",
    "my_list.append([1,'a','true'])\n"
   ]
  },
  {
   "cell_type": "code",
   "execution_count": 54,
   "id": "6c09e42a-b134-4915-a350-802fc89fdd2b",
   "metadata": {},
   "outputs": [
    {
     "name": "stdout",
     "output_type": "stream",
     "text": [
      "[(1, 2, 3), ('a', 'b', 'c'), ('true', 'false'), [1, 'a', 'true']]\n"
     ]
    }
   ],
   "source": [
    "print(my_list)"
   ]
  },
  {
   "cell_type": "code",
   "execution_count": 91,
   "id": "27bbceb1-7fb2-4ac2-88e0-72dfe1e03110",
   "metadata": {},
   "outputs": [],
   "source": [
    "# 4.  create dictionary 'fruit'\n",
    "\n",
    "\n",
    "my_dict={'fruit':('apple','banana','mango','guava'),\n",
    "          'cost':(85,54,120,70)}"
   ]
  },
  {
   "cell_type": "code",
   "execution_count": 92,
   "id": "70930bb4-0c25-4638-9acf-1830ebb99297",
   "metadata": {},
   "outputs": [
    {
     "name": "stdout",
     "output_type": "stream",
     "text": [
      "{'fruit': ('apple', 'banana', 'mango', 'guava'), 'cost': (85, 54, 120, 70)}\n"
     ]
    }
   ],
   "source": [
    "print(my_dict)"
   ]
  },
  {
   "cell_type": "code",
   "execution_count": 93,
   "id": "4af692a9-7c94-4ca9-8958-5f981edfabab",
   "metadata": {},
   "outputs": [
    {
     "name": "stdout",
     "output_type": "stream",
     "text": [
      "keys: dict_keys(['fruit', 'cost'])\n"
     ]
    }
   ],
   "source": [
    "#extract all the keys from fruit\n",
    "\n",
    "keys=my_dict.keys()\n",
    "print(\"keys:\",keys)"
   ]
  },
  {
   "cell_type": "code",
   "execution_count": 99,
   "id": "525ba895-a3d3-4beb-ab60-75ec9eb6973c",
   "metadata": {},
   "outputs": [
    {
     "name": "stdout",
     "output_type": "stream",
     "text": [
      "values: dict_values([('apple', 'banana', 'mango', 'guava'), (85, 54, 120, 70)])\n"
     ]
    }
   ],
   "source": [
    "values=my_dict.values()\n",
    "print(\"values:\",values)"
   ]
  },
  {
   "cell_type": "code",
   "execution_count": 100,
   "id": "fe31ccc9-fe4e-48d5-80ea-8ab7e9038dd0",
   "metadata": {},
   "outputs": [],
   "source": [
    "#5.   create my_set\n",
    "\n",
    "my_set=(1,1,\"a\",\"a\",'true','true')"
   ]
  },
  {
   "cell_type": "code",
   "execution_count": 101,
   "id": "2a1845b2-9836-4614-914c-413c16892847",
   "metadata": {},
   "outputs": [
    {
     "name": "stdout",
     "output_type": "stream",
     "text": [
      "(1, 1, 'a', 'a', 'true', 'true')\n"
     ]
    }
   ],
   "source": [
    "print(my_set)"
   ]
  },
  {
   "cell_type": "code",
   "execution_count": null,
   "id": "d480f177-44ad-4387-b4c6-76154d69263c",
   "metadata": {},
   "outputs": [],
   "source": []
  }
 ],
 "metadata": {
  "kernelspec": {
   "display_name": "Python 3 (ipykernel)",
   "language": "python",
   "name": "python3"
  },
  "language_info": {
   "codemirror_mode": {
    "name": "ipython",
    "version": 3
   },
   "file_extension": ".py",
   "mimetype": "text/x-python",
   "name": "python",
   "nbconvert_exporter": "python",
   "pygments_lexer": "ipython3",
   "version": "3.12.7"
  }
 },
 "nbformat": 4,
 "nbformat_minor": 5
}
