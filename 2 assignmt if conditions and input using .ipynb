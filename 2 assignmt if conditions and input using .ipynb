{
 "cells": [
  {
   "cell_type": "code",
   "execution_count": 1,
   "id": "af1eb7f5-f8bc-4969-aae4-f5121d2204a9",
   "metadata": {},
   "outputs": [
    {
     "name": "stdout",
     "output_type": "stream",
     "text": [
      "b is greater than a\n"
     ]
    }
   ],
   "source": [
    "#if condition\n",
    "\n",
    "a=10\n",
    "b=20\n",
    "\n",
    "if a>b:\n",
    "    print(\"a is greater than b\")\n",
    "elif b>a:\n",
    "    print(\"b is greater than a\")\n",
    "else:\n",
    "    print(\"a and b are equal\")\n",
    "    "
   ]
  },
  {
   "cell_type": "code",
   "execution_count": 2,
   "id": "20b5fe83-9a7b-4798-a76e-0303e70a10c0",
   "metadata": {},
   "outputs": [
    {
     "name": "stdin",
     "output_type": "stream",
     "text": [
      "enter first number: 10\n",
      "enter second number: 20\n",
      "enter third number: 30\n"
     ]
    }
   ],
   "source": [
    "x=int(input(\"enter first number:\"))\n",
    "y=int(input(\"enter second number:\"))\n",
    "z=int(input(\"enter third number:\"))"
   ]
  },
  {
   "cell_type": "code",
   "execution_count": 3,
   "id": "9c67aa66-e88a-4620-a842-1266b3694cfc",
   "metadata": {},
   "outputs": [
    {
     "name": "stdout",
     "output_type": "stream",
     "text": [
      "greatest z: 30\n"
     ]
    }
   ],
   "source": [
    "if x>=y and x>=z:\n",
    "    print(\"greatest\",\"x\",x)\n",
    "elif y>=x and y>=z:\n",
    "    print(\"greatest\",\"y\",y)\n",
    "else:\n",
    "    print(\"greatest\",\"z:\",z)"
   ]
  },
  {
   "cell_type": "code",
   "execution_count": null,
   "id": "8e951dab-e46c-40bc-ac09-0a8a13008c9b",
   "metadata": {},
   "outputs": [],
   "source": []
  }
 ],
 "metadata": {
  "kernelspec": {
   "display_name": "Python 3 (ipykernel)",
   "language": "python",
   "name": "python3"
  },
  "language_info": {
   "codemirror_mode": {
    "name": "ipython",
    "version": 3
   },
   "file_extension": ".py",
   "mimetype": "text/x-python",
   "name": "python",
   "nbconvert_exporter": "python",
   "pygments_lexer": "ipython3",
   "version": "3.12.7"
  }
 },
 "nbformat": 4,
 "nbformat_minor": 5
}
