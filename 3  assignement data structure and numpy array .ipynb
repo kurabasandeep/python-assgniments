{
 "cells": [
  {
   "cell_type": "code",
   "execution_count": null,
   "id": "3376530d-ed0e-4a73-8e34-daf3ad7231f1",
   "metadata": {},
   "outputs": [],
   "source": []
  },
  {
   "cell_type": "code",
   "execution_count": 1,
   "id": "419e2beb-b0bc-40d3-86f8-ba7477e94fee",
   "metadata": {},
   "outputs": [
    {
     "name": "stdout",
     "output_type": "stream",
     "text": [
      "[10, 20, 30, 'apple', 'true', 8, 10]\n"
     ]
    }
   ],
   "source": [
    "# Create a list\n",
    "\n",
    "my_list = [10, 20, 30, 'apple', 'true', 8, 10]\n",
    "print(my_list)"
   ]
  },
  {
   "cell_type": "code",
   "execution_count": 2,
   "id": "2b74c0e7-e4e7-47c3-aed9-687cc596f5ed",
   "metadata": {},
   "outputs": [
    {
     "name": "stdout",
     "output_type": "stream",
     "text": [
      "[10, 8, 'true', 'apple', 30, 20, 10]\n"
     ]
    }
   ],
   "source": [
    "# Reverse the list\n",
    "\n",
    "reversed_list = my_list[::-1]\n",
    "print(reversed_list)"
   ]
  },
  {
   "cell_type": "code",
   "execution_count": 2,
   "id": "3787ff68-54c3-447e-a051-ddde664ca610",
   "metadata": {},
   "outputs": [],
   "source": [
    "# Append new elements to the list\n",
    "\n",
    "my_list.append(30)\n",
    "my_list.append(40)"
   ]
  },
  {
   "cell_type": "code",
   "execution_count": 4,
   "id": "9449b275-f610-4de6-89e9-c128af1e2ba6",
   "metadata": {},
   "outputs": [
    {
     "name": "stdout",
     "output_type": "stream",
     "text": [
      "[10, 20, 30, 'apple', 'true', 8, 10, 30, 40]\n"
     ]
    }
   ],
   "source": [
    "print(my_list)"
   ]
  },
  {
   "cell_type": "code",
   "execution_count": null,
   "id": "d0136a9d-ed60-474e-a23e-07161ed41629",
   "metadata": {},
   "outputs": [],
   "source": []
  },
  {
   "cell_type": "code",
   "execution_count": 5,
   "id": "b06760bb-9fbe-4815-8c5f-396d3912e2b7",
   "metadata": {},
   "outputs": [
    {
     "name": "stdout",
     "output_type": "stream",
     "text": [
      "{1: 'data', 2: 'information', 3: 'test'}\n"
     ]
    }
   ],
   "source": [
    "# Create a dictionary\n",
    "\n",
    "a = {1: 'data', 2: 'information', 3: 'test'}\n",
    "print(a)"
   ]
  },
  {
   "cell_type": "code",
   "execution_count": 6,
   "id": "408b2567-b2de-4067-8589-08b2ee59511d",
   "metadata": {},
   "outputs": [
    {
     "name": "stdout",
     "output_type": "stream",
     "text": [
      "{1: 'data', 2: 'information'}\n"
     ]
    }
   ],
   "source": [
    "# Delete an item\n",
    "\n",
    "del a[3]\n",
    "print(a)"
   ]
  },
  {
   "cell_type": "code",
   "execution_count": 22,
   "id": "f74c9123-ab84-450f-b8ea-cd010757bc13",
   "metadata": {},
   "outputs": [
    {
     "name": "stdout",
     "output_type": "stream",
     "text": [
      "{1: 'data', 2: 'information', 3: 'features'}\n"
     ]
    }
   ],
   "source": [
    "# Add a new item\n",
    "\n",
    "a[3] = 'features'\n",
    "print(a)"
   ]
  },
  {
   "cell_type": "code",
   "execution_count": null,
   "id": "7e23845e-66ac-4425-8ecd-6cc2fa4f4288",
   "metadata": {},
   "outputs": [
    {
     "name": "stdout",
     "output_type": "stream",
     "text": [
      "data\n",
      "{1: 'data', 2: 'information', 3: 'features'}\n"
     ]
    }
   ],
   "source": [
    "print(a[1])\n",
    "print(a)"
   ]
  },
  {
   "cell_type": "code",
   "execution_count": null,
   "id": "55c10ff2-5cdb-4516-afad-b3865d92d4d4",
   "metadata": {},
   "outputs": [],
   "source": []
  },
  {
   "cell_type": "code",
   "execution_count": 8,
   "id": "2b503d0b-b0db-4acc-9531-e15201aede78",
   "metadata": {},
   "outputs": [
    {
     "name": "stdout",
     "output_type": "stream",
     "text": [
      "(1, 2, 3, 'apple', 'mango')\n",
      "(10, 20, 30, 40, 50)\n"
     ]
    }
   ],
   "source": [
    "# Create tuples\n",
    "\n",
    "\n",
    "tuple1 = (1, 2, 3, 'apple', 'mango')\n",
    "tuple2 = (10, 20, 30, 40, 50)\n",
    "print(tuple1)\n",
    "print(tuple2)"
   ]
  },
  {
   "cell_type": "code",
   "execution_count": 9,
   "id": "c8ef8cab-98e2-4ce4-bb2f-991c3d666026",
   "metadata": {},
   "outputs": [
    {
     "name": "stdout",
     "output_type": "stream",
     "text": [
      "10\n"
     ]
    }
   ],
   "source": [
    "#minimum value in a tuple\n",
    "\n",
    "small_value = min(tuple2)\n",
    "print(small_value)"
   ]
  },
  {
   "cell_type": "code",
   "execution_count": 10,
   "id": "65c2a309-7e4a-4266-aa7d-5fa049318d9f",
   "metadata": {},
   "outputs": [
    {
     "name": "stdout",
     "output_type": "stream",
     "text": [
      "(1, 2, 3, 'apple', 'mango', 10, 20, 30, 40, 50)\n"
     ]
    }
   ],
   "source": [
    "# Concatenate tuples\n",
    "\n",
    "concatenate = tuple1 + tuple2\n",
    "print(concatenate)"
   ]
  },
  {
   "cell_type": "code",
   "execution_count": 11,
   "id": "176dce38-b659-4bf2-b66e-27ecaa9b81f2",
   "metadata": {},
   "outputs": [
    {
     "name": "stdout",
     "output_type": "stream",
     "text": [
      "(1, 2, 3, 'apple', 'mango', 10, 20, 30, 40, 50, 1, 2, 3, 'apple', 'mango', 10, 20, 30, 40, 50)\n"
     ]
    }
   ],
   "source": [
    "# Duplicate the concatenated tuple\n",
    "\n",
    "duplicate = concatenate * 2\n",
    "print(duplicate)"
   ]
  },
  {
   "cell_type": "code",
   "execution_count": null,
   "id": "e5e47036-73b5-4ef2-afc2-bdc7feda1105",
   "metadata": {},
   "outputs": [],
   "source": []
  },
  {
   "cell_type": "code",
   "execution_count": 12,
   "id": "d7145c99-aed2-442c-9db0-4d39d39a67a1",
   "metadata": {},
   "outputs": [],
   "source": [
    "# Create sets\n",
    "set1 = {1, 2, 3, 4, 5}\n",
    "set2 = {1, 2, 3, 6, 7}"
   ]
  },
  {
   "cell_type": "code",
   "execution_count": 13,
   "id": "ec0ac6b3-b37d-495f-9b5f-7940a64df89e",
   "metadata": {},
   "outputs": [
    {
     "name": "stdout",
     "output_type": "stream",
     "text": [
      "{1, 2, 3, 4, 5}\n",
      "{1, 2, 3, 6, 7}\n"
     ]
    }
   ],
   "source": [
    "print(set1)\n",
    "print(set2)"
   ]
  },
  {
   "cell_type": "code",
   "execution_count": 14,
   "id": "164cc4e1-5112-426a-842f-57232d1d92e2",
   "metadata": {},
   "outputs": [
    {
     "name": "stdout",
     "output_type": "stream",
     "text": [
      "{1, 2, 3, 4, 5, 6, 7}\n"
     ]
    }
   ],
   "source": [
    "union = set1.union(set2)\n",
    "print(union)"
   ]
  },
  {
   "cell_type": "code",
   "execution_count": 15,
   "id": "ce5c3d2a-3af4-4082-8662-b17127cb80e6",
   "metadata": {},
   "outputs": [
    {
     "name": "stdout",
     "output_type": "stream",
     "text": [
      "{1, 2, 3}\n"
     ]
    }
   ],
   "source": [
    "intersection = set1.intersection(set2)\n",
    "print(intersection)"
   ]
  },
  {
   "cell_type": "code",
   "execution_count": 20,
   "id": "9560a905-04e7-4325-a34f-bedfeeac6ce6",
   "metadata": {},
   "outputs": [
    {
     "name": "stdout",
     "output_type": "stream",
     "text": [
      "{4, 5}\n",
      "{1, 2, 3, 4, 5} {1, 2, 3, 6, 7} {1, 2, 3, 4, 5, 6, 7} {1, 2, 3} {4, 5}\n"
     ]
    }
   ],
   "source": [
    "difference = set1.difference(set2)\n",
    "print(difference)\n",
    "print(set1,set2,union,intersection,difference)"
   ]
  },
  {
   "cell_type": "raw",
   "id": "2666d933-35f4-43a2-9bb1-deab4ec8a8c2",
   "metadata": {},
   "source": []
  },
  {
   "cell_type": "code",
   "execution_count": 45,
   "id": "ec595ee3-91e7-4cc4-9835-1ed38c98e628",
   "metadata": {},
   "outputs": [
    {
     "name": "stdout",
     "output_type": "stream",
     "text": [
      "[[ 2.  3.  4.]\n",
      " [ 5.  6.  7.]\n",
      " [ 8.  9. 10.]]\n"
     ]
    }
   ],
   "source": [
    "import numpy as np\n",
    "\n",
    "# Task 1: Create a 3x3 matrix array with values ranging from 2 to 10\n",
    "matrix = np.linspace(2, 10, 9).reshape(3, 3)\n",
    "print( matrix)"
   ]
  },
  {
   "cell_type": "code",
   "execution_count": 46,
   "id": "4514cea7-6bd5-4a4e-9df2-921d5c2a0539",
   "metadata": {},
   "outputs": [
    {
     "name": "stdout",
     "output_type": "stream",
     "text": [
      "[1. 2. 3. 4.]\n"
     ]
    }
   ],
   "source": [
    "# Task 2: User input array converted to float type\n",
    "input_array = np.array([1, 2, 3, 4])\n",
    "float_array = input_array.astype(float)\n",
    "print(float_array)"
   ]
  },
  {
   "cell_type": "code",
   "execution_count": 47,
   "id": "c8daf58f-c9df-4528-bc15-5727795cfe5b",
   "metadata": {},
   "outputs": [
    {
     "name": "stdout",
     "output_type": "stream",
     "text": [
      "[10 20 30 40 50 60 70 80 90]\n"
     ]
    }
   ],
   "source": [
    "# Task 3: Append values to the end of an array\n",
    "original_array = np.array([10, 20, 30])\n",
    "appended_array = np.append(original_array, [40, 50, 60, 70, 80, 90])\n",
    "print(appended_array)"
   ]
  },
  {
   "cell_type": "code",
   "execution_count": 49,
   "id": "c4a0032e-db2e-4f7e-844d-c092ee3e573a",
   "metadata": {},
   "outputs": [
    {
     "name": "stdout",
     "output_type": "stream",
     "text": [
      "[5 7 9]\n"
     ]
    }
   ],
   "source": [
    "# Task 4: Sum of two arrays\n",
    "array1 = np.array([1, 2, 3])\n",
    "array2 = np.array([4, 5, 6])\n",
    "sum_array = array1 + array2\n",
    "print(sum_array)"
   ]
  },
  {
   "cell_type": "code",
   "execution_count": 50,
   "id": "70842aa7-ab6f-4d2c-9895-d001e62b2c9e",
   "metadata": {},
   "outputs": [
    {
     "name": "stdout",
     "output_type": "stream",
     "text": [
      "[[10 20 30]\n",
      " [40 50 60]\n",
      " [70 80 90]]\n"
     ]
    }
   ],
   "source": [
    "# Task 5: Create a 3x3 array from 10 to 90 with an interval of 10\n",
    "array1 = np.arange(10, 100, 10).reshape(3, 3)\n",
    "print(array1)"
   ]
  },
  {
   "cell_type": "code",
   "execution_count": 51,
   "id": "f4af74d9-9397-4452-a17e-40ff9f8804a6",
   "metadata": {},
   "outputs": [
    {
     "name": "stdout",
     "output_type": "stream",
     "text": [
      "[10 20 30]\n"
     ]
    }
   ],
   "source": [
    "# a. Extract the 1st row\n",
    "first_row = array1[0, :]\n",
    "print(first_row)"
   ]
  },
  {
   "cell_type": "code",
   "execution_count": 52,
   "id": "8022e715-0420-48f5-b9c1-cd5f27e0ba05",
   "metadata": {},
   "outputs": [
    {
     "name": "stdout",
     "output_type": "stream",
     "text": [
      "90\n"
     ]
    }
   ],
   "source": [
    "# b. Extract the last element\n",
    "last_element = array1[-1, -1]\n",
    "print( last_element)"
   ]
  },
  {
   "cell_type": "code",
   "execution_count": null,
   "id": "704b2512-979f-4270-9b46-037851b8e77f",
   "metadata": {},
   "outputs": [],
   "source": []
  },
  {
   "cell_type": "code",
   "execution_count": null,
   "id": "d6246f52-a723-455e-b22f-2422bcd67be9",
   "metadata": {},
   "outputs": [],
   "source": []
  },
  {
   "cell_type": "code",
   "execution_count": null,
   "id": "30940e3c-c71f-479b-8b6a-a1044b741a0a",
   "metadata": {},
   "outputs": [],
   "source": []
  },
  {
   "cell_type": "code",
   "execution_count": null,
   "id": "3b2994c2-1c00-4864-b0c2-c185fefa3c91",
   "metadata": {},
   "outputs": [],
   "source": []
  },
  {
   "cell_type": "code",
   "execution_count": null,
   "id": "56829cef-ca07-4b4d-b997-3674b17f1f05",
   "metadata": {},
   "outputs": [],
   "source": []
  }
 ],
 "metadata": {
  "kernelspec": {
   "display_name": "Python 3 (ipykernel)",
   "language": "python",
   "name": "python3"
  },
  "language_info": {
   "codemirror_mode": {
    "name": "ipython",
    "version": 3
   },
   "file_extension": ".py",
   "mimetype": "text/x-python",
   "name": "python",
   "nbconvert_exporter": "python",
   "pygments_lexer": "ipython3",
   "version": "3.12.7"
  }
 },
 "nbformat": 4,
 "nbformat_minor": 5
}
